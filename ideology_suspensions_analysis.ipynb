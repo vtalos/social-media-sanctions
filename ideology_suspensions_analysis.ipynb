{
 "cells": [
  {
   "cell_type": "markdown",
   "metadata": {},
   "source": [
    "# Social Media Sanctions and Misinformation Sharing\n",
    "\n",
    "This notebook investigates whether social media sanctions and the sharing of low-quality news content vary based on political ideology. We aim to explore the relationship between political beliefs, misinformation sharing, and account suspensions on social media platforms, particularly Twitter.\n",
    "\n",
    "Our analysis will focus on the likelihood of suspension for users with different political affiliations and assess the quality of news shared by these groups. We will examine various measures of news quality, including assessments by professional fact-checkers and crowdsourced participants. Furthermore, we will evaluate the potential influence of political ideology on these measures, using statistical methods to understand trends and relationships.\n",
    "\n",
    "Finally, we will model the predictors of social media suspension, considering both single and multiple factors, to identify significant contributors to account sanctions.\n",
    "\n",
    "We will use the data from [Mohshen Moshel et al. analysis on Nature](https://www.nature.com/articles/s41586-024-07942-8), available at [mosleh_et_al_data.csv](mosleh_et_al_data.csv).\n"
   ]
  },
  {
   "cell_type": "markdown",
   "metadata": {},
   "source": [
    "## Setup"
   ]
  },
  {
   "cell_type": "markdown",
   "metadata": {},
   "source": [
    "- This notebook requires a few Python libraries for data analysis and visualization.\n",
    "\n",
    "- If you don’t have them installed, run the code below in the first cell of the notebook."
   ]
  },
  {
   "cell_type": "code",
   "execution_count": 1,
   "metadata": {},
   "outputs": [
    {
     "name": "stdout",
     "output_type": "stream",
     "text": [
      "Requirement already satisfied: pandas in c:\\users\\vtalo\\appdata\\local\\programs\\python\\python312\\lib\\site-packages (2.1.1)Note: you may need to restart the kernel to use updated packages.\n",
      "\n",
      "Requirement already satisfied: numpy in c:\\users\\vtalo\\appdata\\local\\programs\\python\\python312\\lib\\site-packages (1.26.1)\n",
      "Requirement already satisfied: scipy in c:\\users\\vtalo\\appdata\\local\\programs\\python\\python312\\lib\\site-packages (1.11.3)\n",
      "Requirement already satisfied: matplotlib in c:\\users\\vtalo\\appdata\\local\\programs\\python\\python312\\lib\\site-packages (3.8.0)\n",
      "Requirement already satisfied: seaborn in c:\\users\\vtalo\\appdata\\local\\programs\\python\\python312\\lib\\site-packages (0.13.2)\n",
      "Requirement already satisfied: scikit-learn in c:\\users\\vtalo\\appdata\\local\\programs\\python\\python312\\lib\\site-packages (1.5.2)\n",
      "Requirement already satisfied: statsmodels in c:\\users\\vtalo\\appdata\\local\\programs\\python\\python312\\lib\\site-packages (0.14.0)\n",
      "Requirement already satisfied: python-dateutil>=2.8.2 in c:\\users\\vtalo\\appdata\\local\\programs\\python\\python312\\lib\\site-packages (from pandas) (2.8.2)\n",
      "Requirement already satisfied: pytz>=2020.1 in c:\\users\\vtalo\\appdata\\local\\programs\\python\\python312\\lib\\site-packages (from pandas) (2023.3.post1)\n",
      "Requirement already satisfied: tzdata>=2022.1 in c:\\users\\vtalo\\appdata\\local\\programs\\python\\python312\\lib\\site-packages (from pandas) (2023.3)\n",
      "Requirement already satisfied: contourpy>=1.0.1 in c:\\users\\vtalo\\appdata\\local\\programs\\python\\python312\\lib\\site-packages (from matplotlib) (1.1.1)\n",
      "Requirement already satisfied: cycler>=0.10 in c:\\users\\vtalo\\appdata\\local\\programs\\python\\python312\\lib\\site-packages (from matplotlib) (0.12.1)\n",
      "Requirement already satisfied: fonttools>=4.22.0 in c:\\users\\vtalo\\appdata\\local\\programs\\python\\python312\\lib\\site-packages (from matplotlib) (4.43.1)\n",
      "Requirement already satisfied: kiwisolver>=1.0.1 in c:\\users\\vtalo\\appdata\\local\\programs\\python\\python312\\lib\\site-packages (from matplotlib) (1.4.5)\n",
      "Requirement already satisfied: packaging>=20.0 in c:\\users\\vtalo\\appdata\\local\\programs\\python\\python312\\lib\\site-packages (from matplotlib) (23.2)\n",
      "Requirement already satisfied: pillow>=6.2.0 in c:\\users\\vtalo\\appdata\\local\\programs\\python\\python312\\lib\\site-packages (from matplotlib) (10.1.0)\n",
      "Requirement already satisfied: pyparsing>=2.3.1 in c:\\users\\vtalo\\appdata\\local\\programs\\python\\python312\\lib\\site-packages (from matplotlib) (3.1.1)\n",
      "Requirement already satisfied: joblib>=1.2.0 in c:\\users\\vtalo\\appdata\\local\\programs\\python\\python312\\lib\\site-packages (from scikit-learn) (1.4.2)\n",
      "Requirement already satisfied: threadpoolctl>=3.1.0 in c:\\users\\vtalo\\appdata\\local\\programs\\python\\python312\\lib\\site-packages (from scikit-learn) (3.5.0)\n",
      "Requirement already satisfied: patsy>=0.5.2 in c:\\users\\vtalo\\appdata\\local\\programs\\python\\python312\\lib\\site-packages (from statsmodels) (0.5.3)\n",
      "Requirement already satisfied: six in c:\\users\\vtalo\\appdata\\local\\programs\\python\\python312\\lib\\site-packages (from patsy>=0.5.2->statsmodels) (1.16.0)\n"
     ]
    }
   ],
   "source": [
    "%pip install pandas numpy scipy matplotlib seaborn scikit-learn statsmodels"
   ]
  },
  {
   "cell_type": "markdown",
   "metadata": {},
   "source": [
    "- As a first step, we need to import the necessary libraries."
   ]
  },
  {
   "cell_type": "code",
   "execution_count": 2,
   "metadata": {},
   "outputs": [],
   "source": [
    "import pandas as pd\n",
    "import numpy as np\n",
    "from scipy.stats.mstats import winsorize\n",
    "from scipy.stats import chi2_contingency, zscore, ttest_ind\n",
    "import matplotlib.pyplot as plt\n",
    "import seaborn as sns\n",
    "from sklearn.model_selection import train_test_split\n",
    "from sklearn.metrics import roc_auc_score, roc_curve\n",
    "from sklearn.preprocessing import StandardScaler\n",
    "from statsmodels.stats.multitest import multipletests\n",
    "from sklearn.decomposition import PCA\n",
    "import statsmodels.api as sm\n",
    "import statsmodels.formula.api as smf\n",
    "import matplotlib.patches as mpatches"
   ]
  },
  {
   "cell_type": "markdown",
   "metadata": {},
   "source": [
    "- The [mosleh_et_al_data.csv](mosleh_et_al_data.csv) file should be at the same directory with this notebook.\n",
    "\n",
    "- We read the file."
   ]
  },
  {
   "cell_type": "code",
   "execution_count": 3,
   "metadata": {},
   "outputs": [],
   "source": [
    "file_path = 'mosleh_et_al_data.csv'\n",
    "data = pd.read_csv(file_path)"
   ]
  },
  {
   "cell_type": "markdown",
   "metadata": {},
   "source": [
    "## Twitter Suspensions after the 2020 Election"
   ]
  },
  {
   "cell_type": "markdown",
   "metadata": {},
   "source": [
    "- Using crosstabulation, we will show that accounts that shared `#Trump2020` during the election were about 4.4 times more likely to be subsequently suspended than the accounts that shared `#VoteBidenHarris2020`.\n",
    "\n",
    "- First, let's check the unique values at the relevant columns."
   ]
  },
  {
   "cell_type": "code",
   "execution_count": 4,
   "metadata": {},
   "outputs": [
    {
     "name": "stdout",
     "output_type": "stream",
     "text": [
      "[0 1]\n",
      "[0 1]\n"
     ]
    }
   ],
   "source": [
    "print(data['politics_hashtag'].unique())\n",
    "print(data['suspended'].unique())"
   ]
  },
  {
   "cell_type": "markdown",
   "metadata": {},
   "source": [
    "- Data are represented as binary values.\n",
    "\n",
    "- Let's also check for any NaN values."
   ]
  },
  {
   "cell_type": "code",
   "execution_count": 5,
   "metadata": {},
   "outputs": [
    {
     "data": {
      "text/plain": [
       "politics_hashtag    0\n",
       "suspended           0\n",
       "dtype: int64"
      ]
     },
     "execution_count": 5,
     "metadata": {},
     "output_type": "execute_result"
    }
   ],
   "source": [
    "data[['politics_hashtag', 'suspended']].isna().sum()"
   ]
  },
  {
   "cell_type": "markdown",
   "metadata": {},
   "source": [
    "- Apparently, the `suspended` column uses the following encoding: 0 represents `Not Suspended`, and 1 represents `Suspended`.\n",
    "\n",
    "- In the `politics_hashtag` column, 0 represents either the `#Trump2020` or the `#VoteBidenHarris2020` hashtags.\n",
    "\n",
    "- According to the analysis by [Mohshen Moshel et al.](https://www.nature.com/articles/s41586-024-07942-8), accounts that shared the `#Trump2020` hashtag during the election were 4.4 times more likely to have been subsequently suspended compared to those that shared the `#VoteBidenHarris2020` hashtag.\n",
    "\n",
    "- Let's assume that 0 represents `#Trump2020` and 1 represents `#VoteBidenHarris2020` to try it out.\n"
   ]
  },
  {
   "cell_type": "code",
   "execution_count": 6,
   "metadata": {},
   "outputs": [
    {
     "name": "stdout",
     "output_type": "stream",
     "text": [
      "Assuming that 0 represents #Trump2020 and 1 represents #VoteBidenHarris2020:\n",
      "Suspension rate for #Trump2020: 0.04\n",
      "Suspension rate for #VoteBidenHarris2020: 0.20\n",
      "Likeliness of suspension (#Trump2020 vs #VoteBidenHarris2020): 0.23\n"
     ]
    }
   ],
   "source": [
    "# Create crosstab\n",
    "crosstab = pd.crosstab(data['politics_hashtag'], data['suspended'])\n",
    "\n",
    "# Calculate suspension rates\n",
    "trump_suspended_rate = crosstab.loc[0, 1] / crosstab.loc[1].sum()  # Assuming 0 represents #Trump2020\n",
    "biden_suspended_rate = crosstab.loc[1, 1] / crosstab.loc[0].sum()  # Assuming 1 represents #VoteBidenHarris2020\n",
    "\n",
    "likelihood_ratio = trump_suspended_rate / biden_suspended_rate\n",
    "\n",
    "print(\"Assuming that 0 represents #Trump2020 and 1 represents #VoteBidenHarris2020:\")\n",
    "print(f\"Suspension rate for #Trump2020: {trump_suspended_rate:.2f}\")\n",
    "print(f\"Suspension rate for #VoteBidenHarris2020: {biden_suspended_rate:.2f}\")\n",
    "print(f\"Likeliness of suspension (#Trump2020 vs #VoteBidenHarris2020): {likelihood_ratio:.2f}\")"
   ]
  },
  {
   "cell_type": "markdown",
   "metadata": {},
   "source": [
    "- It seems that 0 represents `#VoteBidenHarris2020` and 1 represents `#Trump2020`."
   ]
  },
  {
   "cell_type": "code",
   "execution_count": 7,
   "metadata": {},
   "outputs": [
    {
     "name": "stdout",
     "output_type": "stream",
     "text": [
      "Suspension rate for #Trump2020: 0.20\n",
      "Suspension rate for #VoteBidenHarris2020: 0.04\n",
      "Likeliness of suspension (#Trump2020 vs #VoteBidenHarris2020): 4.40\n"
     ]
    }
   ],
   "source": [
    "trump_suspended_rate = crosstab.loc[1, 1] / crosstab.loc[1].sum()  # Assuming 1 represents #Trump2020\n",
    "biden_suspended_rate = crosstab.loc[0, 1] / crosstab.loc[0].sum()  # Assuming 0 represents #VoteBidenHarris2020\n",
    "\n",
    "# Calculate likelihood ratio\n",
    "likelihood_ratio = trump_suspended_rate / biden_suspended_rate\n",
    "\n",
    "# Display results\n",
    "print(f\"Suspension rate for #Trump2020: {trump_suspended_rate:.2f}\")\n",
    "print(f\"Suspension rate for #VoteBidenHarris2020: {biden_suspended_rate:.2f}\")\n",
    "print(f\"Likeliness of suspension (#Trump2020 vs #VoteBidenHarris2020): {likelihood_ratio:.2f}\")"
   ]
  },
  {
   "cell_type": "markdown",
   "metadata": {},
   "source": [
    "- Now, we will perform a $\\chi^2$ test on the contingency table.\n",
    "\n",
    "- It will help us assess whether the observed differences in account suspension rates across hashtags are due to chance or reflect a meaningful relationship."
   ]
  },
  {
   "cell_type": "code",
   "execution_count": 8,
   "metadata": {},
   "outputs": [
    {
     "name": "stdout",
     "output_type": "stream",
     "text": [
      "Chi-Square Statistic: 485.47\n",
      "P-value: 0.0000\n"
     ]
    }
   ],
   "source": [
    "chi2, p, dof, expected = chi2_contingency(crosstab)\n",
    "\n",
    "print(f\"Chi-Square Statistic: {chi2:.2f}\")\n",
    "print(f\"P-value: {p:.4f}\")"
   ]
  },
  {
   "cell_type": "markdown",
   "metadata": {},
   "source": [
    "- The results indicate a significant association between the `politics_hashtag` and whether an account was suspended $(P < 0.001)$.\n",
    "\n",
    "- This supports the claim that accounts sharing `#Trump2020` were more likely to be suspended compared to those sharing `#VoteBidenHarris2020`."
   ]
  },
  {
   "cell_type": "markdown",
   "metadata": {},
   "source": [
    "## Distributions of Relative Frequency of Low Quality"
   ]
  },
  {
   "cell_type": "markdown",
   "metadata": {},
   "source": [
    "- We will plot the distributions of low-quality sharing as determined by eight professional fact-checkers (column `lowqual_pr2019_fc`), and by crowdsourcing (column `lowqual_pr2019_crowd`), grouped by `politics_hashtag`.\n",
    "\n",
    "- Let's check `lowqual_pr2019_fc` and `lowqual_pr2019_crowd` columns for NaN values."
   ]
  },
  {
   "cell_type": "code",
   "execution_count": 9,
   "metadata": {},
   "outputs": [
    {
     "name": "stdout",
     "output_type": "stream",
     "text": [
      "lowqual_pr2019_fc    55\n",
      "dtype: int64\n",
      "lowqual_pr2019_crowd    55\n",
      "dtype: int64\n"
     ]
    }
   ],
   "source": [
    "print(data[['lowqual_pr2019_fc']].isna().sum())\n",
    "print(data[['lowqual_pr2019_crowd']].isna().sum())"
   ]
  },
  {
   "cell_type": "markdown",
   "metadata": {},
   "source": [
    "- We drop these values."
   ]
  },
  {
   "cell_type": "code",
   "execution_count": 10,
   "metadata": {},
   "outputs": [],
   "source": [
    "data_cleaned = data.dropna(subset=['lowqual_pr2019_fc', 'lowqual_pr2019_crowd'])"
   ]
  },
  {
   "cell_type": "markdown",
   "metadata": {},
   "source": [
    "- We begin by focusing on the professional fact-checkers.\n",
    "\n",
    "- A copy of the `data_cleaned` dataframe is created to avoid triggering a `SettingWithCopyWarning`.\n",
    "\n",
    "- The `lowqual_pr2019_fc` column is standardized using z-scores, preparing it for use on the $x$-axis."
   ]
  },
  {
   "cell_type": "code",
   "execution_count": 11,
   "metadata": {},
   "outputs": [],
   "source": [
    "data_cleaned = data_cleaned.copy()\n",
    "\n",
    "data_cleaned.loc[:, 'lowqual_zscore'] = zscore(data_cleaned['lowqual_pr2019_fc'])"
   ]
  },
  {
   "cell_type": "markdown",
   "metadata": {},
   "source": [
    "- We use **Seaborn** to create the plot."
   ]
  },
  {
   "cell_type": "code",
   "execution_count": 12,
   "metadata": {},
   "outputs": [
    {
     "data": {
      "image/png": "[encoded data removed]",
      "text/plain": [
       "<Figure size 800x400 with 1 Axes>"
      ]
     },
     "metadata": {},
     "output_type": "display_data"
    }
   ],
   "source": [
    "plt.figure(figsize=(8, 4))\n",
    "\n",
    "sns.kdeplot(\n",
    "    data=data_cleaned,\n",
    "    x='lowqual_zscore',\n",
    "    hue='politics_hashtag',\n",
    "    fill=True,\n",
    "    linewidth=1.5,\n",
    "    palette={1: 'red', 0: 'blue'}\n",
    ")\n",
    "\n",
    "plt.xlabel('Low-quality news sharing', fontsize=14)\n",
    "plt.ylabel('Frequency', fontsize=14)\n",
    "\n",
    "plt.xticks(fontsize=12)\n",
    "plt.yticks(fontsize=12)\n",
    "\n",
    "plt.legend(title='People who shared', labels=['Trump hashtags', 'Biden hashtags'])\n",
    "\n",
    "plt.tight_layout()"
   ]
  },
  {
   "cell_type": "markdown",
   "metadata": {},
   "source": [
    "- We follow the same approach for the crowdsourcing data.\n",
    "\n",
    "- The `lowqual_pr2019_crowd` column is standardized using z-scores, preparing it for use on the $x$-axis."
   ]
  },
  {
   "cell_type": "code",
   "execution_count": 13,
   "metadata": {},
   "outputs": [],
   "source": [
    "data_cleaned.loc[:, 'lowqual_crowd_zscore'] = zscore(data_cleaned['lowqual_pr2019_crowd'])"
   ]
  },
  {
   "cell_type": "markdown",
   "metadata": {},
   "source": [
    "- Again, we use **Seaborn** for the plot."
   ]
  },
  {
   "cell_type": "code",
   "execution_count": 14,
   "metadata": {},
   "outputs": [
    {
     "data": {
      "image/png": "[encoded data removed]",
      "text/plain": [
       "<Figure size 800x400 with 1 Axes>"
      ]
     },
     "metadata": {},
     "output_type": "display_data"
    }
   ],
   "source": [
    "plt.figure(figsize=(8, 4))\n",
    "\n",
    "sns.kdeplot(\n",
    "    data=data_cleaned,\n",
    "    x='lowqual_crowd_zscore',\n",
    "    hue='politics_hashtag',\n",
    "    fill=True,\n",
    "    linewidth=1.5,\n",
    "    palette={1: 'red', 0: 'blue'}\n",
    ")\n",
    "\n",
    "plt.xlabel('Low-quality news sharing', fontsize=14)\n",
    "plt.ylabel('Frequency', fontsize=14)\n",
    "\n",
    "plt.xticks(fontsize=12)\n",
    "plt.yticks(fontsize=12)\n",
    "\n",
    "plt.legend(title='People who shared', labels=['Trump hashtags', 'Biden hashtags'])\n",
    "\n",
    "plt.tight_layout()"
   ]
  },
  {
   "cell_type": "markdown",
   "metadata": {},
   "source": [
    "- Both plots show that individuals who used the Trump-related hashtag shared lower-quality news compared to those who used the Biden-related hashtag."
   ]
  },
  {
   "cell_type": "markdown",
   "metadata": {},
   "source": [
    "## Low-quality News Sharing on Twitter"
   ]
  },
  {
   "cell_type": "markdown",
   "metadata": {},
   "source": [
    "- We will proceed to examine low-quality news sharing on Twitter in a more quantitative manner, using the t-test.\n",
    "\n",
    "- The effect size of the t-test will be quantified using Cohen's $d$ and Hedges' $g$.\n",
    "\n",
    "- We will focus on the following columns."
   ]
  },
  {
   "cell_type": "code",
   "execution_count": 15,
   "metadata": {},
   "outputs": [],
   "source": [
    "columns_quality = [\n",
    "    'lowqual_pr2019_fc',\n",
    "    'lowqual_lasser2019',\n",
    "    'lowqual_mbfc',\n",
    "    'lowqual_afm',\n",
    "    'lowqual_pr2019_crowd',\n",
    "    'lowqual_pr2019_crowdrep'\n",
    "]"
   ]
  },
  {
   "cell_type": "markdown",
   "metadata": {},
   "source": [
    "- Let's take a look at their values."
   ]
  },
  {
   "cell_type": "code",
   "execution_count": 16,
   "metadata": {},
   "outputs": [
    {
     "name": "stdout",
     "output_type": "stream",
     "text": [
      "[0.27922076 0.84863949 0.24234694 ... 0.72091836 0.40022677 0.80877978]\n",
      "[0.35000002 0.9750874  0.30000001 ... 0.33675802 0.77232146 0.35521233]\n",
      "[0.29280674 0.51314735 0.24244547 ... 0.56883162 0.3038975  0.2848618 ]\n",
      "[0.18531549 0.61415553 0.13094997 ... 0.21791524 0.38863212 0.18515611]\n",
      "[0.59888339 0.77487338 0.54872704 ... 0.62764817 0.76455134 0.58181894]\n",
      "[0.70080042 0.75511819 0.65811777 ... 0.71413273 0.73244727 0.68608385]\n"
     ]
    }
   ],
   "source": [
    "for column in columns_quality:\n",
    "    print(data[column].unique())"
   ]
  },
  {
   "cell_type": "markdown",
   "metadata": {},
   "source": [
    "- We also check for NaNs.\n",
    "\n",
    "- The NaN values will be addressed and removed in a subsequent step."
   ]
  },
  {
   "cell_type": "code",
   "execution_count": 17,
   "metadata": {},
   "outputs": [
    {
     "name": "stdout",
     "output_type": "stream",
     "text": [
      "55\n",
      "1\n",
      "1\n",
      "2\n",
      "55\n",
      "55\n"
     ]
    }
   ],
   "source": [
    "for column in columns_quality:\n",
    "    print(data[column].isna().sum())"
   ]
  },
  {
   "cell_type": "markdown",
   "metadata": {},
   "source": [
    "- We will define two functions for the Cohen's $d$ and Hedges' $g$."
   ]
  },
  {
   "cell_type": "code",
   "execution_count": 18,
   "metadata": {},
   "outputs": [],
   "source": [
    "def cohen_d(group1, group2):\n",
    "    mean1, mean2 = np.mean(group1), np.mean(group2)\n",
    "    var1, var2 = np.var(group1, ddof=1), np.var(group2, ddof=1)\n",
    "    n1, n2 = len(group1), len(group2)\n",
    "    \n",
    "    pooled_std = np.sqrt(((n1 - 1) * var1 + (n2 - 1) * var2) / (n1 + n2 - 2))\n",
    "    \n",
    "    return abs(mean1 - mean2) / pooled_std # We use the absolute value to avoid negative values\n",
    "\n",
    "def hedges_g(group1, group2):\n",
    "    d = cohen_d(group1, group2)\n",
    "    n1, n2 = len(group1), len(group2)\n",
    "    correction = 1 - (3 / (4 * (n1 + n2) - 9))\n",
    "    \n",
    "    return d * correction\n"
   ]
  },
  {
   "cell_type": "markdown",
   "metadata": {},
   "source": [
    "- Let's perform the analysis for each column."
   ]
  },
  {
   "cell_type": "code",
   "execution_count": 19,
   "metadata": {},
   "outputs": [
    {
     "name": "stdout",
     "output_type": "stream",
     "text": [
      "Analyzing: lowqual_pr2019_fc\n",
      "T-statistic: 119.223\n",
      "P-value: 0.000e+00\n",
      "Cohen's d: 2.521\n",
      "Hedges' g: 2.521\n",
      "Effect size: Huge\n",
      "--------------------------------------------------\n",
      "Analyzing: lowqual_lasser2019\n",
      "T-statistic: 102.634\n",
      "P-value: 0.000e+00\n",
      "Cohen's d: 2.164\n",
      "Hedges' g: 2.164\n",
      "Effect size: Huge\n",
      "--------------------------------------------------\n",
      "Analyzing: lowqual_mbfc\n",
      "T-statistic: 97.592\n",
      "P-value: 0.000e+00\n",
      "Cohen's d: 2.058\n",
      "Hedges' g: 2.057\n",
      "Effect size: Huge\n",
      "--------------------------------------------------\n",
      "Analyzing: lowqual_afm\n",
      "T-statistic: 102.678\n",
      "P-value: 0.000e+00\n",
      "Cohen's d: 2.165\n",
      "Hedges' g: 2.165\n",
      "Effect size: Huge\n",
      "--------------------------------------------------\n",
      "Analyzing: lowqual_pr2019_crowd\n",
      "T-statistic: 102.464\n",
      "P-value: 0.000e+00\n",
      "Cohen's d: 2.167\n",
      "Hedges' g: 2.167\n",
      "Effect size: Huge\n",
      "--------------------------------------------------\n",
      "Analyzing: lowqual_pr2019_crowdrep\n",
      "T-statistic: 61.071\n",
      "P-value: 0.000e+00\n",
      "Cohen's d: 1.291\n",
      "Hedges' g: 1.291\n",
      "Effect size: Very Large\n",
      "--------------------------------------------------\n"
     ]
    }
   ],
   "source": [
    "for column in columns_quality:\n",
    "    print(f\"Analyzing: {column}\")\n",
    "    \n",
    "    # Drop NaN values for the current column\n",
    "    data_cleaned = data.dropna(subset=[column])\n",
    "    \n",
    "    # Split the data into the two groups\n",
    "    group_trump = data_cleaned[data_cleaned['politics_hashtag'] == 1][column]\n",
    "    group_biden = data_cleaned[data_cleaned['politics_hashtag'] == 0][column]\n",
    "    \n",
    "    # Perform t-test\n",
    "    t_stat, p_value = ttest_ind(group_trump, group_biden, nan_policy='omit')\n",
    "    \n",
    "    # Calculate effect sizes\n",
    "    d = cohen_d(group_trump, group_biden)\n",
    "    g = hedges_g(group_trump, group_biden)\n",
    "    \n",
    "    print(f\"T-statistic: {t_stat:.3f}\")\n",
    "    print(f\"P-value: {p_value:.3e}\")\n",
    "    print(f\"Cohen's d: {d:.3f}\")\n",
    "    print(f\"Hedges' g: {g:.3f}\")\n",
    "    \n",
    "    # Determine effect size category\n",
    "    if d < 0.20:\n",
    "        effect_size = \"Very small\"\n",
    "    elif d < 0.50:\n",
    "        effect_size = \"Small\"\n",
    "    elif d < 0.80:\n",
    "        effect_size = \"Medium\"\n",
    "    elif d < 1.20:\n",
    "        effect_size = \"Large\"\n",
    "    elif d < 2.00:\n",
    "        effect_size = \"Very Large\"\n",
    "    else:\n",
    "        effect_size = \"Huge\"\n",
    "    \n",
    "    print(f\"Effect size: {effect_size}\")\n",
    "    print(\"-\" * 50)"
   ]
  },
  {
   "cell_type": "markdown",
   "metadata": {},
   "source": [
    "- The t-tests across all variables related to low-quality news sharing reveal highly significant differences (p-values = 0.000).\n",
    "\n",
    "- The effect sizes are consistently large.\n",
    "\n",
    "- The lowest effect size observed was **1.291** for `lowqual_pr2019_crowdrep`, groups of only Republican laypeople, which still qualifies as a **very large** effect size.\n",
    "\n",
    "- Overall, all analyzed variables exhibit substantial differences in low-quality news sharing, suggesting a strong presence of these factors in the data.\n",
    "\n",
    "- It looks like political affiliation plays a significant role in the sharing of low-quality news on Twitter."
   ]
  },
  {
   "cell_type": "markdown",
   "metadata": {},
   "source": [
    "### Sharing Lower-quality News Sources and Conservative Ideology"
   ]
  },
  {
   "cell_type": "markdown",
   "metadata": {},
   "source": [
    "- We aim to determine whether there is a correlation between lower-quality news sources and conservative ideology.\n",
    "\n",
    "- The ideology-related columns will be defined."
   ]
  },
  {
   "cell_type": "code",
   "execution_count": 20,
   "metadata": {},
   "outputs": [
    {
     "name": "stdout",
     "output_type": "stream",
     "text": [
      "[-0.08029453  2.296375   -2.3127301  ...  1.6893206   1.5254937\n",
      " -1.4118648 ]\n",
      "[0 1]\n",
      "[-1.168745    1.060905   -0.500076   ... -0.92560548  0.92505997\n",
      " -0.77351648]\n",
      "[-0.23190165  0.40526086 -0.17106667 ... -0.21456853  0.42492682\n",
      " -0.16868182]\n"
     ]
    }
   ],
   "source": [
    "columns_politics = [\n",
    "    'politics_followed',\n",
    "    'politics_hashtag',\n",
    "    'politics_sites1',\n",
    "    'politics_sites2'\n",
    "]\n",
    "\n",
    "for column in columns_politics:\n",
    "    print(data[column].unique())"
   ]
  },
  {
   "cell_type": "markdown",
   "metadata": {},
   "source": [
    "- We perform the pairwise correlations."
   ]
  },
  {
   "cell_type": "code",
   "execution_count": 21,
   "metadata": {},
   "outputs": [],
   "source": [
    "correlation_matrix = data[columns_quality + columns_politics].corr()\n",
    "\n",
    "correlations_subset = correlation_matrix.loc[columns_quality, columns_politics]"
   ]
  },
  {
   "cell_type": "markdown",
   "metadata": {},
   "source": [
    "- We display the results in a heatmap."
   ]
  },
  {
   "cell_type": "code",
   "execution_count": 22,
   "metadata": {},
   "outputs": [
    {
     "data": {
      "image/png": "[encoded data removed]",
      "text/plain": [
       "<Figure size 800x600 with 2 Axes>"
      ]
     },
     "metadata": {},
     "output_type": "display_data"
    }
   ],
   "source": [
    "plt.figure(figsize=(8, 6))\n",
    "sns.heatmap(\n",
    "    correlations_subset,\n",
    "    annot=True, \n",
    "    fmt=\".2f\", \n",
    "    cmap=\"crest\",\n",
    "    linewidths=0.5\n",
    ")\n",
    "\n",
    "plt.xticks(rotation=45)\n",
    "plt.tight_layout()"
   ]
  },
  {
   "cell_type": "markdown",
   "metadata": {},
   "source": [
    "- The heatmap shows a strong positive correlation between lower-quality news sources and conservative ideology.\n",
    "\n",
    "- Even when using trustworthiness ratings from Republican sources (`lowqual_pr2019_crowdrep`), a moderate correlation is observed."
   ]
  },
  {
   "cell_type": "markdown",
   "metadata": {},
   "source": [
    "## News Sharing Can Help Explain Suspension, Using Single Predictors"
   ]
  },
  {
   "cell_type": "markdown",
   "metadata": {},
   "source": [
    "- We want to predict whether a user was suspended or not.\n",
    "\n",
    "- For predictors, we are going to use the columns related to the political orientation of the user and the low-quality news sharing ratings.\n",
    "\n",
    "- Let's see the available data."
   ]
  },
  {
   "cell_type": "code",
   "execution_count": 23,
   "metadata": {},
   "outputs": [
    {
     "name": "stdout",
     "output_type": "stream",
     "text": [
      "[0 1]\n",
      "[-1.168745    1.060905   -0.500076   ... -0.92560548  0.92505997\n",
      " -0.77351648]\n",
      "[-0.23190165  0.40526086 -0.17106667 ... -0.21456853  0.42492682\n",
      " -0.16868182]\n",
      "[-0.08029453  2.296375   -2.3127301  ...  1.6893206   1.5254937\n",
      " -1.4118648 ]\n",
      "[0.18531549 0.61415553 0.13094997 ... 0.21791524 0.38863212 0.18515611]\n",
      "[0.29280674 0.51314735 0.24244547 ... 0.56883162 0.3038975  0.2848618 ]\n",
      "[0.35000002 0.9750874  0.30000001 ... 0.33675802 0.77232146 0.35521233]\n",
      "[0.27922076 0.84863949 0.24234694 ... 0.72091836 0.40022677 0.80877978]\n",
      "[0.59888339 0.77487338 0.54872704 ... 0.62764817 0.76455134 0.58181894]\n"
     ]
    }
   ],
   "source": [
    "predictors = [\n",
    "    'politics_hashtag', 'politics_sites1', 'politics_sites2', \n",
    "    'politics_followed', 'lowqual_afm', 'lowqual_mbfc', \n",
    "    'lowqual_lasser2019', 'lowqual_pr2019_fc', 'lowqual_pr2019_crowd'\n",
    "]\n",
    "\n",
    "for predictor in predictors:\n",
    "    print(data[predictor].unique())"
   ]
  },
  {
   "cell_type": "markdown",
   "metadata": {},
   "source": [
    "- We check for NaNs.\n",
    "\n",
    "- The NaN values will be addressed and removed in a subsequent step."
   ]
  },
  {
   "cell_type": "code",
   "execution_count": 24,
   "metadata": {},
   "outputs": [
    {
     "name": "stdout",
     "output_type": "stream",
     "text": [
      "politics_hashtag: NaNs -> 0, Unique values -> 2\n",
      "politics_sites1: NaNs -> 0, Unique values -> 8961\n",
      "politics_sites2: NaNs -> 0, Unique values -> 8822\n",
      "politics_followed: NaNs -> 1035, Unique values -> 7962\n",
      "lowqual_afm: NaNs -> 2, Unique values -> 8930\n",
      "lowqual_mbfc: NaNs -> 1, Unique values -> 8353\n",
      "lowqual_lasser2019: NaNs -> 1, Unique values -> 4760\n",
      "lowqual_pr2019_fc: NaNs -> 55, Unique values -> 4906\n",
      "lowqual_pr2019_crowd: NaNs -> 55, Unique values -> 7975\n"
     ]
    }
   ],
   "source": [
    "target = 'suspended'\n",
    "\n",
    "for col in predictors:\n",
    "    print(f\"{col}: NaNs -> {data[col].isnull().sum()}, Unique values -> {data[col].nunique()}\")"
   ]
  },
  {
   "cell_type": "markdown",
   "metadata": {},
   "source": [
    "- Continuing, we want to apply the **probit** model for the predictions.\n",
    "\n",
    "- The predictions will be evaluated with the AUC of the ROC curve.\n",
    "\n",
    "- To get confidence intervals, we repeat each prediction 100 times by using the boostrap method."
   ]
  },
  {
   "cell_type": "code",
   "execution_count": 25,
   "metadata": {},
   "outputs": [
    {
     "data": {
      "text/html": [
       "<div>\n",
       "<style scoped>\n",
       "    .dataframe tbody tr th:only-of-type {\n",
       "        vertical-align: middle;\n",
       "    }\n",
       "\n",
       "    .dataframe tbody tr th {\n",
       "        vertical-align: top;\n",
       "    }\n",
       "\n",
       "    .dataframe thead th {\n",
       "        text-align: right;\n",
       "    }\n",
       "</style>\n",
       "<table border=\"1\" class=\"dataframe\">\n",
       "  <thead>\n",
       "    <tr style=\"text-align: right;\">\n",
       "      <th></th>\n",
       "      <th>Predictor</th>\n",
       "      <th>AUC</th>\n",
       "      <th>CI Lower</th>\n",
       "      <th>CI Upper</th>\n",
       "    </tr>\n",
       "  </thead>\n",
       "  <tbody>\n",
       "    <tr>\n",
       "      <th>0</th>\n",
       "      <td>politics_hashtag</td>\n",
       "      <td>0.678304</td>\n",
       "      <td>0.667409</td>\n",
       "      <td>0.691671</td>\n",
       "    </tr>\n",
       "    <tr>\n",
       "      <th>1</th>\n",
       "      <td>politics_sites1</td>\n",
       "      <td>0.700262</td>\n",
       "      <td>0.688011</td>\n",
       "      <td>0.713061</td>\n",
       "    </tr>\n",
       "    <tr>\n",
       "      <th>2</th>\n",
       "      <td>politics_sites2</td>\n",
       "      <td>0.705124</td>\n",
       "      <td>0.690016</td>\n",
       "      <td>0.719034</td>\n",
       "    </tr>\n",
       "    <tr>\n",
       "      <th>3</th>\n",
       "      <td>politics_followed</td>\n",
       "      <td>0.717885</td>\n",
       "      <td>0.702405</td>\n",
       "      <td>0.734238</td>\n",
       "    </tr>\n",
       "    <tr>\n",
       "      <th>4</th>\n",
       "      <td>lowqual_afm</td>\n",
       "      <td>0.716187</td>\n",
       "      <td>0.702685</td>\n",
       "      <td>0.732253</td>\n",
       "    </tr>\n",
       "    <tr>\n",
       "      <th>5</th>\n",
       "      <td>lowqual_mbfc</td>\n",
       "      <td>0.707455</td>\n",
       "      <td>0.691251</td>\n",
       "      <td>0.721788</td>\n",
       "    </tr>\n",
       "    <tr>\n",
       "      <th>6</th>\n",
       "      <td>lowqual_lasser2019</td>\n",
       "      <td>0.706817</td>\n",
       "      <td>0.690716</td>\n",
       "      <td>0.724676</td>\n",
       "    </tr>\n",
       "    <tr>\n",
       "      <th>7</th>\n",
       "      <td>lowqual_pr2019_fc</td>\n",
       "      <td>0.697851</td>\n",
       "      <td>0.684604</td>\n",
       "      <td>0.711498</td>\n",
       "    </tr>\n",
       "    <tr>\n",
       "      <th>8</th>\n",
       "      <td>lowqual_pr2019_crowd</td>\n",
       "      <td>0.686402</td>\n",
       "      <td>0.671769</td>\n",
       "      <td>0.701937</td>\n",
       "    </tr>\n",
       "  </tbody>\n",
       "</table>\n",
       "</div>"
      ],
      "text/plain": [
       "              Predictor       AUC  CI Lower  CI Upper\n",
       "0      politics_hashtag  0.678304  0.667409  0.691671\n",
       "1       politics_sites1  0.700262  0.688011  0.713061\n",
       "2       politics_sites2  0.705124  0.690016  0.719034\n",
       "3     politics_followed  0.717885  0.702405  0.734238\n",
       "4           lowqual_afm  0.716187  0.702685  0.732253\n",
       "5          lowqual_mbfc  0.707455  0.691251  0.721788\n",
       "6    lowqual_lasser2019  0.706817  0.690716  0.724676\n",
       "7     lowqual_pr2019_fc  0.697851  0.684604  0.711498\n",
       "8  lowqual_pr2019_crowd  0.686402  0.671769  0.701937"
      ]
     },
     "execution_count": 25,
     "metadata": {},
     "output_type": "execute_result"
    }
   ],
   "source": [
    "results = []\n",
    "n_bootstrap = 100\n",
    "\n",
    "for predictor in predictors:\n",
    "    \n",
    "    # Drop NaN values for the current predictor\n",
    "    data_cleaned = data[[predictor, target]].dropna()\n",
    "    \n",
    "    # Split into training and testing sets\n",
    "    X = data_cleaned[predictor]\n",
    "    y = data_cleaned[target]\n",
    "    \n",
    "    # Fit the model\n",
    "    formula = f\"{target} ~ {predictor}\"\n",
    "\n",
    "    model = smf.probit(formula=formula, data=data_cleaned).fit(disp=0)\n",
    "    data_cleaned['pred_prob'] = model.predict(X)\n",
    "\n",
    "    auc_results = []\n",
    "\n",
    "    # Perform bootstrap method\n",
    "    for _ in range(n_bootstrap):\n",
    "        bootstraped_data = data_cleaned.sample(frac=1, replace=True)\n",
    "        auc = roc_auc_score(bootstraped_data[target], bootstraped_data['pred_prob'])\n",
    "        auc_results.append(auc)\n",
    "\n",
    "    # Calculate mean and confidence intervals\n",
    "    mean_auc = np.mean(auc_results)\n",
    "    lower_bound = np.percentile(auc_results, 2.5)\n",
    "    upper_bound = np.percentile(auc_results, 97.5)\n",
    "\n",
    "    results.append({\n",
    "        \"Predictor\": predictor,\n",
    "        \"AUC\": mean_auc,\n",
    "        \"CI Lower\": lower_bound,\n",
    "        \"CI Upper\": upper_bound\n",
    "    })\n",
    "\n",
    "results_df = pd.DataFrame(results)\n",
    "\n",
    "results_df"
   ]
  },
  {
   "cell_type": "markdown",
   "metadata": {},
   "source": [
    "- We will plot all our evaluations and the confidence intervals in a barchart.\n",
    "\n",
    "- First, we split the predictors to `political` and `lowqual` for Political orientation and Low-quality news sharing correspondingly."
   ]
  },
  {
   "cell_type": "code",
   "execution_count": 26,
   "metadata": {},
   "outputs": [],
   "source": [
    "political_predictors = [\n",
    "    'politics_hashtag', 'politics_sites1', 'politics_sites2', 'politics_followed'\n",
    "]\n",
    "lowqual_predictors = [\n",
    "    'lowqual_afm', 'lowqual_mbfc', 'lowqual_lasser2019', 'lowqual_pr2019_fc', 'lowqual_pr2019_crowd'\n",
    "]"
   ]
  },
  {
   "cell_type": "markdown",
   "metadata": {},
   "source": [
    "- We also define the descriptions for the x-axis using a dictionary."
   ]
  },
  {
   "cell_type": "code",
   "execution_count": 27,
   "metadata": {},
   "outputs": [],
   "source": [
    "descriptions = {\n",
    "    'politics_hashtag': 'Hashtag\\nShared',\n",
    "    'politics_sites1': 'News\\nSites\\nShared 1',\n",
    "    'politics_sites2': 'News\\nSites\\nShared 2',\n",
    "    'politics_followed': 'Accounts\\nFollowed',\n",
    "    'lowqual_afm': 'AFM\\nRatings',\n",
    "    'lowqual_mbfc': 'MBFC\\nRatings',\n",
    "    'lowqual_lasser2019': 'Lasser\\nRatings',\n",
    "    'lowqual_pr2019_fc': 'Fact-\\nChecker\\nRatings',\n",
    "    'lowqual_pr2019_crowd': 'Layperson\\nRatings'\n",
    "}"
   ]
  },
  {
   "cell_type": "markdown",
   "metadata": {},
   "source": [
    "- Now let's plot the barchart."
   ]
  },
  {
   "cell_type": "code",
   "execution_count": 28,
   "metadata": {},
   "outputs": [
    {
     "data": {
      "image/png": "[encoded data removed]",
      "text/plain": [
       "<Figure size 1200x600 with 1 Axes>"
      ]
     },
     "metadata": {},
     "output_type": "display_data"
    }
   ],
   "source": [
    "# Add descriptions to the results dataframe for plotting\n",
    "results_df['Description'] = results_df['Predictor'].map(descriptions)\n",
    "\n",
    "plt.figure(figsize=(12, 6))\n",
    "\n",
    "colors = []\n",
    "\n",
    "# Assign colors to political and low-quality predictors\n",
    "for predictor in results_df['Predictor']:\n",
    "    if predictor in political_predictors:\n",
    "        colors.append('purple')\n",
    "    elif predictor in lowqual_predictors:\n",
    "        colors.append('green')\n",
    "    else:\n",
    "        colors.append('gray')  # Default color if needed\n",
    "\n",
    "plt.bar(results_df['Description'], results_df['AUC'], \n",
    "        yerr=[results_df['AUC'] - results_df['CI Lower'], \n",
    "              results_df['CI Upper'] - results_df['AUC']], \n",
    "        capsize=5, color=colors, width=0.6, edgecolor='black')\n",
    "\n",
    "plt.xticks(fontsize=10, ha='center')\n",
    "\n",
    "# Set y-axis range from 0.5 to 0.8\n",
    "plt.ylim(0.5, 0.8)\n",
    "\n",
    "political_patch = mpatches.Patch(color='purple', label='Political orientation')\n",
    "lowqual_patch = mpatches.Patch(color='green', label='Low-quality news sharing')\n",
    "plt.legend(title='Classes', handles=[political_patch, lowqual_patch])\n",
    "\n",
    "plt.show()\n"
   ]
  },
  {
   "cell_type": "markdown",
   "metadata": {},
   "source": [
    "- The results show that all predictors have a relatively strong ability to predict user suspension.\n",
    "\n",
    "-  Political orientation and sharing low-quality news are similarly predictive of suspension"
   ]
  },
  {
   "cell_type": "markdown",
   "metadata": {},
   "source": [
    "## News Sharing Can Help Explain Suspension, Using Multiple Predictors"
   ]
  },
  {
   "cell_type": "markdown",
   "metadata": {},
   "source": [
    "- We will also use multiple regression models to predict and explain suspension.\n",
    "\n",
    "- We start by filing in missing values in our data by using the column mean."
   ]
  },
  {
   "cell_type": "code",
   "execution_count": 29,
   "metadata": {},
   "outputs": [],
   "source": [
    "data.fillna(data.mean(), inplace=True)"
   ]
  },
  {
   "cell_type": "markdown",
   "metadata": {},
   "source": [
    "- Then, we log transform, base 10, the variables that are related to Twitter metrics.\n",
    "\n",
    "- We add 1 to prevent $log(0)$."
   ]
  },
  {
   "cell_type": "code",
   "execution_count": 30,
   "metadata": {},
   "outputs": [],
   "source": [
    "data['log_repeated_tweet_count'] = np.log10(data['repeated_tweet_count'] + 1)\n",
    "data['log_freq_pr_1h'] = np.log10(data['freq_pr_1h'] + 1)\n",
    "data['log_num_followers'] = np.log10(data['num_followers'] + 1)\n",
    "data['log_num_friends'] = np.log10(data['num_friends'] + 1)"
   ]
  },
  {
   "cell_type": "markdown",
   "metadata": {},
   "source": [
    "- We introduce an additional variable, `log_fol`, which is the base 10 logarithm of `num_friends` over `num_followers` ratio."
   ]
  },
  {
   "cell_type": "code",
   "execution_count": 31,
   "metadata": {},
   "outputs": [],
   "source": [
    "data['log_fol'] = np.log10((data['num_friends'] + 1) / (data['num_followers'] + 1))"
   ]
  },
  {
   "cell_type": "markdown",
   "metadata": {},
   "source": [
    "- To reduce the effect of outliers, we will [winsorize](https://en.wikipedia.org/wiki/Winsorizing) the data of the following columns."
   ]
  },
  {
   "cell_type": "code",
   "execution_count": 32,
   "metadata": {},
   "outputs": [],
   "source": [
    "columns_to_winsorize = [\n",
    "    'valence_neg', 'valence_neu', 'valence_pos', \n",
    "    'barbera_std', 'politics_sites1_std', 'politics_sites2_ideo_std'\n",
    "]"
   ]
  },
  {
   "cell_type": "markdown",
   "metadata": {},
   "source": [
    "- We winzorize from both sides at the top 1%."
   ]
  },
  {
   "cell_type": "code",
   "execution_count": 33,
   "metadata": {},
   "outputs": [],
   "source": [
    "for col in columns_to_winsorize:\n",
    "    data[col] = winsorize(data[col], limits=(0.01, 0.01))"
   ]
  },
  {
   "cell_type": "markdown",
   "metadata": {},
   "source": [
    "- We will winsorize the upper side of the following  variables at the top 1%."
   ]
  },
  {
   "cell_type": "code",
   "execution_count": 34,
   "metadata": {},
   "outputs": [],
   "source": [
    "columns_to_winsorize_upper = [\n",
    "    'moral_outrage', 'rewire_abuse', 'rewire_hate', \n",
    "    'rewire_profanity', 'rewire_violent', 'rewire_sexually_explicit',\n",
    "    'jigsaw_toxicity', 'jigsaw_severe_toxicity', 'jigsaw_idenity_attack', \n",
    "    'jigsaw_insult', 'jigsaw_profanity', 'jigsaw_threat'\n",
    "]\n",
    "\n",
    "for col in columns_to_winsorize_upper:\n",
    "    data[col] = winsorize(data[col], limits=(0, 0.01))"
   ]
  },
  {
   "cell_type": "markdown",
   "metadata": {},
   "source": [
    "- We will derive and use a single PCA component, `pc1_misinfo`, for low quality news sharing.\n",
    "\n",
    "- PCA helps simplify things by combining all the related measures of low-quality news sharing into one key summary measure (`pc1_misinfo`), so we can focus on the bigger picture without losing important information.\n",
    "\n",
    "- Let's start by defining the low quality related columns."
   ]
  },
  {
   "cell_type": "code",
   "execution_count": 35,
   "metadata": {},
   "outputs": [],
   "source": [
    "lowqual_columns = [\n",
    "    'lowqual_pr2019_fc', 'lowqual_afm', 'lowqual_lasser2019', 'lowqual_mbfc'\n",
    "]"
   ]
  },
  {
   "cell_type": "markdown",
   "metadata": {},
   "source": [
    "- As PCA works with the variance in order to identify the new dimensions, it requires data normalisation.\n",
    "\n",
    "- We standardize the selected variables to ensure they have a mean of 0 and a standard deviation of 1."
   ]
  },
  {
   "cell_type": "code",
   "execution_count": 36,
   "metadata": {},
   "outputs": [
    {
     "name": "stdout",
     "output_type": "stream",
     "text": [
      "Mean = [ 0. -0. -0. -0.] Std Dev = [1. 1. 1. 1.]\n"
     ]
    }
   ],
   "source": [
    "scaler = StandardScaler()\n",
    "data_standardized = scaler.fit_transform(data[lowqual_columns])\n",
    "\n",
    "# Print the mean and standard deviation of the standardized data, rounded to the nearest integer\n",
    "print(\"Mean =\", np.mean(data_standardized, axis=0).round(), \"Std Dev =\", np.std(data_standardized, axis=0).round())"
   ]
  },
  {
   "cell_type": "markdown",
   "metadata": {},
   "source": [
    "- The variables have a mean very close to 0 and a standard deviation of 1, confirming successful standardization to a unit-normal scale.\n",
    "\n",
    "- We perform PCA."
   ]
  },
  {
   "cell_type": "code",
   "execution_count": 37,
   "metadata": {},
   "outputs": [],
   "source": [
    "pca = PCA(n_components=1)  # We're interested in just the first component\n",
    "pc1 = pca.fit_transform(data_standardized)"
   ]
  },
  {
   "cell_type": "markdown",
   "metadata": {},
   "source": [
    "- We show the explained variance ratio, which tells us how much of the variation in low-quality news sharing is captured by our single PCA component.\n",
    "\n",
    "- We project the low quality news sharing dimensions to this new dimension, by creating a new column for `pc1_misinfo`."
   ]
  },
  {
   "cell_type": "code",
   "execution_count": 38,
   "metadata": {},
   "outputs": [
    {
     "name": "stdout",
     "output_type": "stream",
     "text": [
      "Explained Variance Ratio for PC1: [0.87255953]\n"
     ]
    }
   ],
   "source": [
    "explained_variance_ratio = pca.explained_variance_ratio_\n",
    "print(\"Explained Variance Ratio for PC1:\", explained_variance_ratio)\n",
    "\n",
    "data['pc1_misinfo'] = pc1"
   ]
  },
  {
   "cell_type": "markdown",
   "metadata": {},
   "source": [
    "- As we can see, the explained variance ratio for `pc1_misinfo` is **0.8726**, meaning that **87.26%** of the variation in the low-quality news sharing variables is captured by this single principal component. \n",
    "\n",
    "- This indicates that `pc1_misinfo` is highly representative of the combined patterns in these variables, making it a strong summary measure.\n",
    "\n",
    "- We will work in the same way for the political orientation, getting a single PCA component, `pc1_politics`.\n",
    "\n",
    "- Again, we start by standardizing."
   ]
  },
  {
   "cell_type": "code",
   "execution_count": 39,
   "metadata": {},
   "outputs": [],
   "source": [
    "political_columns = ['politics_hashtag', 'politics_followed', 'politics_sites1', 'politics_sites2']\n",
    "\n",
    "data_politics_standardized = data.copy()\n",
    "\n",
    "scaler_politics = StandardScaler()\n",
    "data_politics_standardized[political_columns] = scaler_politics.fit_transform(data_politics_standardized[political_columns])"
   ]
  },
  {
   "cell_type": "markdown",
   "metadata": {},
   "source": [
    "- We perform PCA."
   ]
  },
  {
   "cell_type": "code",
   "execution_count": 40,
   "metadata": {},
   "outputs": [
    {
     "name": "stdout",
     "output_type": "stream",
     "text": [
      "Explained Variance Ratio for Political Orientation PCA: [0.87952937]\n"
     ]
    }
   ],
   "source": [
    "pca_politics = PCA(n_components=1)  # We only want the first principal component\n",
    "\n",
    "pc1_politics = pca_politics.fit_transform(data_politics_standardized[political_columns])\n",
    "\n",
    "data['pc1_politics'] = pc1_politics\n",
    "\n",
    "# Calculate the explained variance ratio\n",
    "explained_variance_ratio_politics = pca_politics.explained_variance_ratio_\n",
    "print(\"Explained Variance Ratio for Political Orientation PCA:\", explained_variance_ratio_politics)"
   ]
  },
  {
   "cell_type": "markdown",
   "metadata": {},
   "source": [
    "- Again, the explained variance ratio for the political orientation PCA is high, meaning the single component effectively summarizes the majority of variation in the political orientation variables.\n",
    "\n",
    "- We will introduce a new variable, `extremity`, which is the absolute value of the PCA component we got."
   ]
  },
  {
   "cell_type": "code",
   "execution_count": 41,
   "metadata": {},
   "outputs": [],
   "source": [
    "data['extremity'] = abs(data['pc1_politics'])"
   ]
  },
  {
   "cell_type": "markdown",
   "metadata": {},
   "source": [
    "- We also do the same for `log_followers`, `log_friends`, `log_fol`, producing `pc1_fol`."
   ]
  },
  {
   "cell_type": "code",
   "execution_count": 42,
   "metadata": {},
   "outputs": [
    {
     "name": "stdout",
     "output_type": "stream",
     "text": [
      "Explained Variance Ratio for Social Network PCA: [0.70462969]\n"
     ]
    }
   ],
   "source": [
    "social_columns = ['log_num_followers', 'log_num_friends', 'log_fol']\n",
    "\n",
    "data_social_standardized = data.copy()\n",
    "\n",
    "# Standardize the social network variables\n",
    "scaler_social = StandardScaler()\n",
    "data_social_standardized[social_columns] = scaler_social.fit_transform(data_social_standardized[social_columns])\n",
    "\n",
    "# Apply PCA to the social network metrics\n",
    "pca_social = PCA(n_components=1)  # We only want the first principal component\n",
    "\n",
    "# Fit the PCA model\n",
    "pc1_fol = pca_social.fit_transform(data_social_standardized[social_columns])\n",
    "\n",
    "data['pc1_fol'] = pc1_fol\n",
    "\n",
    "# Calculate the explained variance ratio\n",
    "explained_variance_ratio_social = pca_social.explained_variance_ratio_\n",
    "print(\"Explained Variance Ratio for Social Network PCA:\", explained_variance_ratio_social)\n",
    "\n",
    "# Create the extremity variable as the absolute value of the social network component\n",
    "data['extremity_fol'] = abs(data['pc1_fol'])"
   ]
  },
  {
   "cell_type": "markdown",
   "metadata": {},
   "source": [
    "- The single component captures a substantial portion of the variability in the social network-related variables, though not as comprehensively as in the previous cases.\n",
    "\n",
    "- Regarding the harmful language variables, we'll perform PCA for *three* components, `pc1_harmful_language`, `pc2_harmful_language`, `pc3_harmful_language`."
   ]
  },
  {
   "cell_type": "code",
   "execution_count": 43,
   "metadata": {},
   "outputs": [
    {
     "name": "stdout",
     "output_type": "stream",
     "text": [
      "Explained Variance Ratio for Harmful Language PCA (3 components): [0.5616608  0.11871792 0.10703707]\n"
     ]
    }
   ],
   "source": [
    "harmful_language_columns = [\n",
    "    'rewire_abuse', 'rewire_hate', 'rewire_profanity', 'rewire_violent',\n",
    "    'rewire_sexually_explicit', 'jigsaw_toxicity', 'jigsaw_severe_toxicity',\n",
    "    'jigsaw_idenity_attack', 'jigsaw_insult', 'jigsaw_profanity', 'jigsaw_threat'\n",
    "]\n",
    "\n",
    "data_harmful_language_standardized = data.copy()\n",
    "\n",
    "# Standardize the harmful language variables\n",
    "scaler_harmful = StandardScaler()\n",
    "data_harmful_language_standardized[harmful_language_columns] = scaler_harmful.fit_transform(data_harmful_language_standardized[harmful_language_columns])\n",
    "\n",
    "# Perform PCA for three components on the harmful language variables\n",
    "pca_harmful = PCA(n_components=3)\n",
    "\n",
    "harmful_language_pca = pca_harmful.fit_transform(data_harmful_language_standardized[harmful_language_columns])\n",
    "\n",
    "data['pc1_harmful_language'] = harmful_language_pca[:, 0]\n",
    "data['pc2_harmful_language'] = harmful_language_pca[:, 1]\n",
    "data['pc3_harmful_language'] = harmful_language_pca[:, 2]\n",
    "\n",
    "explained_variance_ratio_harmful = pca_harmful.explained_variance_ratio_\n",
    "total_explained_variance_ratio_harmful = explained_variance_ratio_harmful.sum()\n",
    "\n",
    "print(\"Explained Variance Ratio for Harmful Language PCA (3 components):\", explained_variance_ratio_harmful)"
   ]
  },
  {
   "cell_type": "markdown",
   "metadata": {},
   "source": [
    "- As we can see, the explained variance ratio for the first component is **56.17%**, which is not sufficient to represent the full complexity of the data. \n",
    "\n",
    "- The second and third components, while contributing smaller portions of variance (**11.87%** and **10.70%**, respectively), capture additional meaningful dimensions of variability."
   ]
  },
  {
   "cell_type": "code",
   "execution_count": 44,
   "metadata": {},
   "outputs": [
    {
     "name": "stdout",
     "output_type": "stream",
     "text": [
      "Total Explained Variance Ratio for Harmful Language PCA: 0.7874157847381196\n"
     ]
    }
   ],
   "source": [
    "print(\"Total Explained Variance Ratio for Harmful Language PCA:\", total_explained_variance_ratio_harmful)"
   ]
  },
  {
   "cell_type": "markdown",
   "metadata": {},
   "source": [
    "- The total explained variance increased to 78.74%, offering a more comprehensive view.\n",
    "\n",
    "- We will try to interpret each of the principal components.\n",
    "\n",
    "- Let's see the components themselves."
   ]
  },
  {
   "cell_type": "code",
   "execution_count": 45,
   "metadata": {},
   "outputs": [
    {
     "data": {
      "text/plain": [
       "array([[ 0.32530845,  0.23538337,  0.25255674,  0.23252186,  0.12526899,\n",
       "         0.38547179,  0.33586086,  0.30692208,  0.37440778,  0.3617071 ,\n",
       "         0.28039267],\n",
       "       [ 0.34409751,  0.5765375 , -0.23191386,  0.06740265, -0.53686584,\n",
       "         0.13232154, -0.30099609, -0.04947252,  0.13741195, -0.20511297,\n",
       "        -0.17646751],\n",
       "       [-0.30773448, -0.03195551, -0.43039704, -0.03699539, -0.37270948,\n",
       "        -0.07810217,  0.24571418,  0.46254153, -0.03715369, -0.15336206,\n",
       "         0.52291043]])"
      ]
     },
     "execution_count": 45,
     "metadata": {},
     "output_type": "execute_result"
    }
   ],
   "source": [
    "pca_harmful.components_"
   ]
  },
  {
   "cell_type": "markdown",
   "metadata": {},
   "source": [
    "- The first component (PC1) is:\n",
    "\n",
    "$$\n",
    "z_1 = 0.32530708 \\times x_1 +  0.23538239 \\times x_2 + 0.25255626 \\times x_3 + 0.23252051 \\times x_4 + \\\\\n",
    "0.12526832 \\times x_5 + 0.38547328 \\times x_6 + 0.33585696 \\times x_7 + 0.30692378 \\times x_8 + \\\\\n",
    "0.3744104 \\times x_9 + 0.36170918 \\times x_{10} + 0.28039151 \\times x_{11}\n",
    "$$\n",
    "\n",
    "- Where:\n",
    "    - $x_1$ = `rewire_abuse`\n",
    "    - $x_2$ = `rewire_hate`\n",
    "    - $x_3$ = `rewire_profanity`\n",
    "    - $x_4$ = `rewire_violent`\n",
    "    - $x_5$ = `rewire_sexually_explicit`\n",
    "    - $x_6$ = `jigsaw_toxicity`\n",
    "    - $x_7$ = `jigsaw_severe_toxicity`\n",
    "    - $x_8$ = `jigsaw_idenity_attack`\n",
    "    - $x_9$ = `jigsaw_insult`\n",
    "    - $x_{10}$ = `jigsaw_profanity`\n",
    "    - $x_{11}$ = `jigsaw_threat`\n",
    "\n",
    "- **PC1** captures a general dimension of harmful language, reflecting overall toxic content on Twitter.\n",
    "\n",
    "- The second component (PC2) is:\n",
    "\n",
    "$$\n",
    "z_2 = 0.3442136 \\times x_1 +  0.57654798 \\times x_2 + -0.23174985 \\times x_3 +  0.06743299 \\times + \\\\\n",
    "x_4 + -0.53672038 \\times x_5 +  0.13235282 \\times x_6 + -0.30109329 \\times x_7 + -0.04965428 \\times x_8 +  0.13742415 + \\\\\n",
    "\\times x_9 + -0.20505254 \\times x_{10} + -0.1766735 \\times x_{11}\n",
    "$$\n",
    "\n",
    "- **PC2** captures hostility and abuse, with strong influences from hate speech and aggressive language, but not from sexually explicit or general toxicity.\n",
    "\n",
    "- The third component (PC3) is:\n",
    "\n",
    "$$\n",
    "z_3 = -0.30759356 \\times x_1 + -0.03173062 \\times x_2 + -0.43048054 \\times x_3 + -0.03702487 \\times + \\\\\n",
    "x_4 + -0.37293747 \\times x_5 + -0.07804893 \\times x_6 +  0.24563426 \\times x_7 +  0.46251261 \\times + \\\\\n",
    "x_8 + -0.03708868 \\times x_9 + -0.15343852 \\times x_{10} +  0.52282692 \\times x_{11}\n",
    "$$\n",
    "\n",
    "- **PC3** captures harmful language related to identity attacks, threats, and toxicity, but not hate speech or abuse, offering a more specific dimension of harm.\n",
    "\n",
    "- Overall, using three components instead of one allows us to capture different dimensions of harmful language.\n",
    "\n",
    "- Each component highlights a unique aspect of harmful content.\n"
   ]
  },
  {
   "cell_type": "markdown",
   "metadata": {},
   "source": [
    "- We return to producing a single PCA component, `pc1_valence`."
   ]
  },
  {
   "cell_type": "code",
   "execution_count": 46,
   "metadata": {},
   "outputs": [
    {
     "name": "stdout",
     "output_type": "stream",
     "text": [
      "Explained Variance Ratio for PC1 (valence): [0.7079432]\n"
     ]
    }
   ],
   "source": [
    "valence_columns = ['valence_neg', 'valence_neu', 'valence_pos']\n",
    "\n",
    "# Standardize the data\n",
    "scaler = StandardScaler()\n",
    "data_standardized_valence = scaler.fit_transform(data[valence_columns])\n",
    "\n",
    "# Apply PCA\n",
    "pca_valence = PCA(n_components=1)\n",
    "\n",
    "pc1_valence = pca_valence.fit_transform(data_standardized_valence)\n",
    "\n",
    "data['pc1_valence'] = pc1_valence\n",
    "\n",
    "explained_variance_ratio_valence = pca_valence.explained_variance_ratio_\n",
    "\n",
    "print(\"Explained Variance Ratio for PC1 (valence):\", explained_variance_ratio_valence)"
   ]
  },
  {
   "cell_type": "markdown",
   "metadata": {},
   "source": [
    "- Before proceeding, we normalize the independent variables by taking their z-scores."
   ]
  },
  {
   "cell_type": "code",
   "execution_count": 47,
   "metadata": {},
   "outputs": [],
   "source": [
    "independent_vars = [\n",
    "    'pc1_politics', 'pc1_misinfo', 'pc1_fol', 'pc1_harmful_language', \n",
    "    'pc2_harmful_language', 'pc3_harmful_language', 'pc1_valence', \n",
    "    'tweets_in_2wk', 'botsentinel_score', 'extremity', 'moral_outrage', \n",
    "    'liwc_political', 'log_freq_pr_1h', 'log_repeated_tweet_count', \n",
    "    'barbera_std', 'politics_sites1_std', 'politics_sites2_ideo_std'\n",
    "]\n",
    "\n",
    "for var in independent_vars:\n",
    "    data[var] = zscore(data[var])"
   ]
  },
  {
   "cell_type": "markdown",
   "metadata": {},
   "source": [
    "- We will carry out a probit regression to predict suspension."
   ]
  },
  {
   "cell_type": "code",
   "execution_count": 48,
   "metadata": {},
   "outputs": [
    {
     "name": "stdout",
     "output_type": "stream",
     "text": [
      "Optimization terminated successfully."
     ]
    },
    {
     "name": "stdout",
     "output_type": "stream",
     "text": [
      "\n",
      "         Current function value: 0.302637\n",
      "         Iterations 7\n"
     ]
    },
    {
     "data": {
      "text/html": [
       "<table class=\"simpletable\">\n",
       "<caption>Probit Regression Results</caption>\n",
       "<tr>\n",
       "  <th>Dep. Variable:</th>       <td>suspended</td>    <th>  No. Observations:  </th>   <td>  9000</td>  \n",
       "</tr>\n",
       "<tr>\n",
       "  <th>Model:</th>                <td>Probit</td>      <th>  Df Residuals:      </th>   <td>  8982</td>  \n",
       "</tr>\n",
       "<tr>\n",
       "  <th>Method:</th>                 <td>MLE</td>       <th>  Df Model:          </th>   <td>    17</td>  \n",
       "</tr>\n",
       "<tr>\n",
       "  <th>Date:</th>            <td>Sat, 07 Dec 2024</td> <th>  Pseudo R-squ.:     </th>   <td>0.1762</td>  \n",
       "</tr>\n",
       "<tr>\n",
       "  <th>Time:</th>                <td>18:05:08</td>     <th>  Log-Likelihood:    </th>  <td> -2723.7</td> \n",
       "</tr>\n",
       "<tr>\n",
       "  <th>converged:</th>             <td>True</td>       <th>  LL-Null:           </th>  <td> -3306.3</td> \n",
       "</tr>\n",
       "<tr>\n",
       "  <th>Covariance Type:</th>     <td>nonrobust</td>    <th>  LLR p-value:       </th> <td>3.877e-237</td>\n",
       "</tr>\n",
       "</table>\n",
       "<table class=\"simpletable\">\n",
       "<tr>\n",
       "              <td></td>                <th>coef</th>     <th>std err</th>      <th>z</th>      <th>P>|z|</th>  <th>[0.025</th>    <th>0.975]</th>  \n",
       "</tr>\n",
       "<tr>\n",
       "  <th>const</th>                    <td>   -1.4273</td> <td>    0.023</td> <td>  -61.086</td> <td> 0.000</td> <td>   -1.473</td> <td>   -1.381</td>\n",
       "</tr>\n",
       "<tr>\n",
       "  <th>pc1_politics</th>             <td>    0.1341</td> <td>    0.053</td> <td>    2.535</td> <td> 0.011</td> <td>    0.030</td> <td>    0.238</td>\n",
       "</tr>\n",
       "<tr>\n",
       "  <th>pc1_misinfo</th>              <td>    0.2448</td> <td>    0.046</td> <td>    5.265</td> <td> 0.000</td> <td>    0.154</td> <td>    0.336</td>\n",
       "</tr>\n",
       "<tr>\n",
       "  <th>pc1_fol</th>                  <td>    0.0013</td> <td>    0.021</td> <td>    0.064</td> <td> 0.949</td> <td>   -0.040</td> <td>    0.042</td>\n",
       "</tr>\n",
       "<tr>\n",
       "  <th>pc1_harmful_language</th>     <td>    0.1761</td> <td>    0.026</td> <td>    6.750</td> <td> 0.000</td> <td>    0.125</td> <td>    0.227</td>\n",
       "</tr>\n",
       "<tr>\n",
       "  <th>pc2_harmful_language</th>     <td>   -0.0830</td> <td>    0.026</td> <td>   -3.226</td> <td> 0.001</td> <td>   -0.133</td> <td>   -0.033</td>\n",
       "</tr>\n",
       "<tr>\n",
       "  <th>pc3_harmful_language</th>     <td>   -0.0662</td> <td>    0.021</td> <td>   -3.216</td> <td> 0.001</td> <td>   -0.107</td> <td>   -0.026</td>\n",
       "</tr>\n",
       "<tr>\n",
       "  <th>pc1_valence</th>              <td>    0.0410</td> <td>    0.023</td> <td>    1.819</td> <td> 0.069</td> <td>   -0.003</td> <td>    0.085</td>\n",
       "</tr>\n",
       "<tr>\n",
       "  <th>tweets_in_2wk</th>            <td>    0.3316</td> <td>    0.021</td> <td>   15.934</td> <td> 0.000</td> <td>    0.291</td> <td>    0.372</td>\n",
       "</tr>\n",
       "<tr>\n",
       "  <th>botsentinel_score</th>        <td>    0.1825</td> <td>    0.039</td> <td>    4.724</td> <td> 0.000</td> <td>    0.107</td> <td>    0.258</td>\n",
       "</tr>\n",
       "<tr>\n",
       "  <th>extremity</th>                <td>   -0.1199</td> <td>    0.023</td> <td>   -5.295</td> <td> 0.000</td> <td>   -0.164</td> <td>   -0.076</td>\n",
       "</tr>\n",
       "<tr>\n",
       "  <th>moral_outrage</th>            <td>    0.0170</td> <td>    0.034</td> <td>    0.501</td> <td> 0.616</td> <td>   -0.049</td> <td>    0.083</td>\n",
       "</tr>\n",
       "<tr>\n",
       "  <th>liwc_political</th>           <td>   -0.0226</td> <td>    0.029</td> <td>   -0.790</td> <td> 0.429</td> <td>   -0.079</td> <td>    0.033</td>\n",
       "</tr>\n",
       "<tr>\n",
       "  <th>log_freq_pr_1h</th>           <td>    0.1222</td> <td>    0.023</td> <td>    5.351</td> <td> 0.000</td> <td>    0.077</td> <td>    0.167</td>\n",
       "</tr>\n",
       "<tr>\n",
       "  <th>log_repeated_tweet_count</th> <td>   -0.0074</td> <td>    0.023</td> <td>   -0.326</td> <td> 0.745</td> <td>   -0.052</td> <td>    0.037</td>\n",
       "</tr>\n",
       "<tr>\n",
       "  <th>barbera_std</th>              <td>   -0.0303</td> <td>    0.024</td> <td>   -1.276</td> <td> 0.202</td> <td>   -0.077</td> <td>    0.016</td>\n",
       "</tr>\n",
       "<tr>\n",
       "  <th>politics_sites1_std</th>      <td>   -0.0259</td> <td>    0.021</td> <td>   -1.224</td> <td> 0.221</td> <td>   -0.067</td> <td>    0.016</td>\n",
       "</tr>\n",
       "<tr>\n",
       "  <th>politics_sites2_ideo_std</th> <td>    0.0612</td> <td>    0.022</td> <td>    2.752</td> <td> 0.006</td> <td>    0.018</td> <td>    0.105</td>\n",
       "</tr>\n",
       "</table>"
      ],
      "text/latex": [
       "\\begin{center}\n",
       "\\begin{tabular}{lclc}\n",
       "\\toprule\n",
       "\\textbf{Dep. Variable:}              &    suspended     & \\textbf{  No. Observations:  } &     9000    \\\\\n",
       "\\textbf{Model:}                      &      Probit      & \\textbf{  Df Residuals:      } &     8982    \\\\\n",
       "\\textbf{Method:}                     &       MLE        & \\textbf{  Df Model:          } &       17    \\\\\n",
       "\\textbf{Date:}                       & Sat, 07 Dec 2024 & \\textbf{  Pseudo R-squ.:     } &   0.1762    \\\\\n",
       "\\textbf{Time:}                       &     18:05:08     & \\textbf{  Log-Likelihood:    } &   -2723.7   \\\\\n",
       "\\textbf{converged:}                  &       True       & \\textbf{  LL-Null:           } &   -3306.3   \\\\\n",
       "\\textbf{Covariance Type:}            &    nonrobust     & \\textbf{  LLR p-value:       } & 3.877e-237  \\\\\n",
       "\\bottomrule\n",
       "\\end{tabular}\n",
       "\\begin{tabular}{lcccccc}\n",
       "                                     & \\textbf{coef} & \\textbf{std err} & \\textbf{z} & \\textbf{P$> |$z$|$} & \\textbf{[0.025} & \\textbf{0.975]}  \\\\\n",
       "\\midrule\n",
       "\\textbf{const}                       &      -1.4273  &        0.023     &   -61.086  &         0.000        &       -1.473    &       -1.381     \\\\\n",
       "\\textbf{pc1\\_politics}               &       0.1341  &        0.053     &     2.535  &         0.011        &        0.030    &        0.238     \\\\\n",
       "\\textbf{pc1\\_misinfo}                &       0.2448  &        0.046     &     5.265  &         0.000        &        0.154    &        0.336     \\\\\n",
       "\\textbf{pc1\\_fol}                    &       0.0013  &        0.021     &     0.064  &         0.949        &       -0.040    &        0.042     \\\\\n",
       "\\textbf{pc1\\_harmful\\_language}      &       0.1761  &        0.026     &     6.750  &         0.000        &        0.125    &        0.227     \\\\\n",
       "\\textbf{pc2\\_harmful\\_language}      &      -0.0830  &        0.026     &    -3.226  &         0.001        &       -0.133    &       -0.033     \\\\\n",
       "\\textbf{pc3\\_harmful\\_language}      &      -0.0662  &        0.021     &    -3.216  &         0.001        &       -0.107    &       -0.026     \\\\\n",
       "\\textbf{pc1\\_valence}                &       0.0410  &        0.023     &     1.819  &         0.069        &       -0.003    &        0.085     \\\\\n",
       "\\textbf{tweets\\_in\\_2wk}             &       0.3316  &        0.021     &    15.934  &         0.000        &        0.291    &        0.372     \\\\\n",
       "\\textbf{botsentinel\\_score}          &       0.1825  &        0.039     &     4.724  &         0.000        &        0.107    &        0.258     \\\\\n",
       "\\textbf{extremity}                   &      -0.1199  &        0.023     &    -5.295  &         0.000        &       -0.164    &       -0.076     \\\\\n",
       "\\textbf{moral\\_outrage}              &       0.0170  &        0.034     &     0.501  &         0.616        &       -0.049    &        0.083     \\\\\n",
       "\\textbf{liwc\\_political}             &      -0.0226  &        0.029     &    -0.790  &         0.429        &       -0.079    &        0.033     \\\\\n",
       "\\textbf{log\\_freq\\_pr\\_1h}           &       0.1222  &        0.023     &     5.351  &         0.000        &        0.077    &        0.167     \\\\\n",
       "\\textbf{log\\_repeated\\_tweet\\_count} &      -0.0074  &        0.023     &    -0.326  &         0.745        &       -0.052    &        0.037     \\\\\n",
       "\\textbf{barbera\\_std}                &      -0.0303  &        0.024     &    -1.276  &         0.202        &       -0.077    &        0.016     \\\\\n",
       "\\textbf{politics\\_sites1\\_std}       &      -0.0259  &        0.021     &    -1.224  &         0.221        &       -0.067    &        0.016     \\\\\n",
       "\\textbf{politics\\_sites2\\_ideo\\_std} &       0.0612  &        0.022     &     2.752  &         0.006        &        0.018    &        0.105     \\\\\n",
       "\\bottomrule\n",
       "\\end{tabular}\n",
       "%\\caption{Probit Regression Results}\n",
       "\\end{center}"
      ],
      "text/plain": [
       "<class 'statsmodels.iolib.summary.Summary'>\n",
       "\"\"\"\n",
       "                          Probit Regression Results                           \n",
       "==============================================================================\n",
       "Dep. Variable:              suspended   No. Observations:                 9000\n",
       "Model:                         Probit   Df Residuals:                     8982\n",
       "Method:                           MLE   Df Model:                           17\n",
       "Date:                Sat, 07 Dec 2024   Pseudo R-squ.:                  0.1762\n",
       "Time:                        18:05:08   Log-Likelihood:                -2723.7\n",
       "converged:                       True   LL-Null:                       -3306.3\n",
       "Covariance Type:            nonrobust   LLR p-value:                3.877e-237\n",
       "============================================================================================\n",
       "                               coef    std err          z      P>|z|      [0.025      0.975]\n",
       "--------------------------------------------------------------------------------------------\n",
       "const                       -1.4273      0.023    -61.086      0.000      -1.473      -1.381\n",
       "pc1_politics                 0.1341      0.053      2.535      0.011       0.030       0.238\n",
       "pc1_misinfo                  0.2448      0.046      5.265      0.000       0.154       0.336\n",
       "pc1_fol                      0.0013      0.021      0.064      0.949      -0.040       0.042\n",
       "pc1_harmful_language         0.1761      0.026      6.750      0.000       0.125       0.227\n",
       "pc2_harmful_language        -0.0830      0.026     -3.226      0.001      -0.133      -0.033\n",
       "pc3_harmful_language        -0.0662      0.021     -3.216      0.001      -0.107      -0.026\n",
       "pc1_valence                  0.0410      0.023      1.819      0.069      -0.003       0.085\n",
       "tweets_in_2wk                0.3316      0.021     15.934      0.000       0.291       0.372\n",
       "botsentinel_score            0.1825      0.039      4.724      0.000       0.107       0.258\n",
       "extremity                   -0.1199      0.023     -5.295      0.000      -0.164      -0.076\n",
       "moral_outrage                0.0170      0.034      0.501      0.616      -0.049       0.083\n",
       "liwc_political              -0.0226      0.029     -0.790      0.429      -0.079       0.033\n",
       "log_freq_pr_1h               0.1222      0.023      5.351      0.000       0.077       0.167\n",
       "log_repeated_tweet_count    -0.0074      0.023     -0.326      0.745      -0.052       0.037\n",
       "barbera_std                 -0.0303      0.024     -1.276      0.202      -0.077       0.016\n",
       "politics_sites1_std         -0.0259      0.021     -1.224      0.221      -0.067       0.016\n",
       "politics_sites2_ideo_std     0.0612      0.022      2.752      0.006       0.018       0.105\n",
       "============================================================================================\n",
       "\"\"\""
      ]
     },
     "execution_count": 48,
     "metadata": {},
     "output_type": "execute_result"
    }
   ],
   "source": [
    "# Define the predictors and target variable\n",
    "X = data[independent_vars]\n",
    "y = data[target]\n",
    "\n",
    "# Add a constant to the predictors\n",
    "X = sm.add_constant(X)\n",
    "\n",
    "probit_model = sm.Probit(y, X).fit()\n",
    "\n",
    "p_values = probit_model.pvalues\n",
    "\n",
    "# Summarize the model\n",
    "probit_model.summary()"
   ]
  },
  {
   "cell_type": "markdown",
   "metadata": {},
   "source": [
    "- Before going on to interpret our results, we perform the [Bonferroni correction](https://en.wikipedia.org/wiki/Bonferroni_correction) and the [Holm-Bonferroni correction](https://en.wikipedia.org/wiki/Holm%E2%80%93Bonferroni_method) correction.\n",
    "\n",
    "- The purpose of both of these tests is to reduce the likelihood of false positives (Type I errors) when conducting multiple statistical tests."
   ]
  },
  {
   "cell_type": "code",
   "execution_count": 49,
   "metadata": {},
   "outputs": [
    {
     "data": {
      "text/html": [
       "<div>\n",
       "<style scoped>\n",
       "    .dataframe tbody tr th:only-of-type {\n",
       "        vertical-align: middle;\n",
       "    }\n",
       "\n",
       "    .dataframe tbody tr th {\n",
       "        vertical-align: top;\n",
       "    }\n",
       "\n",
       "    .dataframe thead th {\n",
       "        text-align: right;\n",
       "    }\n",
       "</style>\n",
       "<table border=\"1\" class=\"dataframe\">\n",
       "  <thead>\n",
       "    <tr style=\"text-align: right;\">\n",
       "      <th></th>\n",
       "      <th>P-value</th>\n",
       "      <th>Bonferroni Corrected P-value</th>\n",
       "      <th>Holm-Bonferroni Corrected P-value</th>\n",
       "    </tr>\n",
       "  </thead>\n",
       "  <tbody>\n",
       "    <tr>\n",
       "      <th>const</th>\n",
       "      <td>0.000000</td>\n",
       "      <td>0.000000</td>\n",
       "      <td>0.000000</td>\n",
       "    </tr>\n",
       "    <tr>\n",
       "      <th>pc1_politics</th>\n",
       "      <td>0.011240</td>\n",
       "      <td>0.202314</td>\n",
       "      <td>0.089917</td>\n",
       "    </tr>\n",
       "    <tr>\n",
       "      <th>pc1_misinfo</th>\n",
       "      <td>0.000000</td>\n",
       "      <td>0.000003</td>\n",
       "      <td>0.000002</td>\n",
       "    </tr>\n",
       "    <tr>\n",
       "      <th>pc1_fol</th>\n",
       "      <td>0.948738</td>\n",
       "      <td>1.000000</td>\n",
       "      <td>1.000000</td>\n",
       "    </tr>\n",
       "    <tr>\n",
       "      <th>pc1_harmful_language</th>\n",
       "      <td>0.000000</td>\n",
       "      <td>0.000000</td>\n",
       "      <td>0.000000</td>\n",
       "    </tr>\n",
       "    <tr>\n",
       "      <th>pc2_harmful_language</th>\n",
       "      <td>0.001254</td>\n",
       "      <td>0.022574</td>\n",
       "      <td>0.013795</td>\n",
       "    </tr>\n",
       "    <tr>\n",
       "      <th>pc3_harmful_language</th>\n",
       "      <td>0.001298</td>\n",
       "      <td>0.023372</td>\n",
       "      <td>0.013795</td>\n",
       "    </tr>\n",
       "    <tr>\n",
       "      <th>pc1_valence</th>\n",
       "      <td>0.068850</td>\n",
       "      <td>1.000000</td>\n",
       "      <td>0.481949</td>\n",
       "    </tr>\n",
       "    <tr>\n",
       "      <th>tweets_in_2wk</th>\n",
       "      <td>0.000000</td>\n",
       "      <td>0.000000</td>\n",
       "      <td>0.000000</td>\n",
       "    </tr>\n",
       "    <tr>\n",
       "      <th>botsentinel_score</th>\n",
       "      <td>0.000002</td>\n",
       "      <td>0.000042</td>\n",
       "      <td>0.000028</td>\n",
       "    </tr>\n",
       "    <tr>\n",
       "      <th>extremity</th>\n",
       "      <td>0.000000</td>\n",
       "      <td>0.000002</td>\n",
       "      <td>0.000002</td>\n",
       "    </tr>\n",
       "    <tr>\n",
       "      <th>moral_outrage</th>\n",
       "      <td>0.616350</td>\n",
       "      <td>1.000000</td>\n",
       "      <td>1.000000</td>\n",
       "    </tr>\n",
       "    <tr>\n",
       "      <th>liwc_political</th>\n",
       "      <td>0.429487</td>\n",
       "      <td>1.000000</td>\n",
       "      <td>1.000000</td>\n",
       "    </tr>\n",
       "    <tr>\n",
       "      <th>log_freq_pr_1h</th>\n",
       "      <td>0.000000</td>\n",
       "      <td>0.000002</td>\n",
       "      <td>0.000001</td>\n",
       "    </tr>\n",
       "    <tr>\n",
       "      <th>log_repeated_tweet_count</th>\n",
       "      <td>0.744658</td>\n",
       "      <td>1.000000</td>\n",
       "      <td>1.000000</td>\n",
       "    </tr>\n",
       "    <tr>\n",
       "      <th>barbera_std</th>\n",
       "      <td>0.201961</td>\n",
       "      <td>1.000000</td>\n",
       "      <td>1.000000</td>\n",
       "    </tr>\n",
       "    <tr>\n",
       "      <th>politics_sites1_std</th>\n",
       "      <td>0.221100</td>\n",
       "      <td>1.000000</td>\n",
       "      <td>1.000000</td>\n",
       "    </tr>\n",
       "    <tr>\n",
       "      <th>politics_sites2_ideo_std</th>\n",
       "      <td>0.005923</td>\n",
       "      <td>0.106610</td>\n",
       "      <td>0.053305</td>\n",
       "    </tr>\n",
       "  </tbody>\n",
       "</table>\n",
       "</div>"
      ],
      "text/plain": [
       "                           P-value  Bonferroni Corrected P-value  \\\n",
       "const                     0.000000                      0.000000   \n",
       "pc1_politics              0.011240                      0.202314   \n",
       "pc1_misinfo               0.000000                      0.000003   \n",
       "pc1_fol                   0.948738                      1.000000   \n",
       "pc1_harmful_language      0.000000                      0.000000   \n",
       "pc2_harmful_language      0.001254                      0.022574   \n",
       "pc3_harmful_language      0.001298                      0.023372   \n",
       "pc1_valence               0.068850                      1.000000   \n",
       "tweets_in_2wk             0.000000                      0.000000   \n",
       "botsentinel_score         0.000002                      0.000042   \n",
       "extremity                 0.000000                      0.000002   \n",
       "moral_outrage             0.616350                      1.000000   \n",
       "liwc_political            0.429487                      1.000000   \n",
       "log_freq_pr_1h            0.000000                      0.000002   \n",
       "log_repeated_tweet_count  0.744658                      1.000000   \n",
       "barbera_std               0.201961                      1.000000   \n",
       "politics_sites1_std       0.221100                      1.000000   \n",
       "politics_sites2_ideo_std  0.005923                      0.106610   \n",
       "\n",
       "                          Holm-Bonferroni Corrected P-value  \n",
       "const                                              0.000000  \n",
       "pc1_politics                                       0.089917  \n",
       "pc1_misinfo                                        0.000002  \n",
       "pc1_fol                                            1.000000  \n",
       "pc1_harmful_language                               0.000000  \n",
       "pc2_harmful_language                               0.013795  \n",
       "pc3_harmful_language                               0.013795  \n",
       "pc1_valence                                        0.481949  \n",
       "tweets_in_2wk                                      0.000000  \n",
       "botsentinel_score                                  0.000028  \n",
       "extremity                                          0.000002  \n",
       "moral_outrage                                      1.000000  \n",
       "liwc_political                                     1.000000  \n",
       "log_freq_pr_1h                                     0.000001  \n",
       "log_repeated_tweet_count                           1.000000  \n",
       "barbera_std                                        1.000000  \n",
       "politics_sites1_std                                1.000000  \n",
       "politics_sites2_ideo_std                           0.053305  "
      ]
     },
     "execution_count": 49,
     "metadata": {},
     "output_type": "execute_result"
    }
   ],
   "source": [
    "# Bonferroni correction\n",
    "_, bonferroni_corrected_p, _, _ = multipletests(p_values, alpha=0.05, method='bonferroni')\n",
    "\n",
    "# Holm-Bonferroni correction\n",
    "_, holm_bonferroni_corrected_p, _, _ = multipletests(p_values, alpha=0.05, method='holm')\n",
    "\n",
    "# Create a DataFrame to display the results\n",
    "results_df = pd.DataFrame({\n",
    "    'P-value': p_values,\n",
    "    'Bonferroni Corrected P-value': bonferroni_corrected_p,\n",
    "    'Holm-Bonferroni Corrected P-value': holm_bonferroni_corrected_p\n",
    "})\n",
    "\n",
    "results_df = results_df.round(6) # Round to 6 decimal places\n",
    "\n",
    "results_df"
   ]
  },
  {
   "cell_type": "markdown",
   "metadata": {},
   "source": [
    "- The results indicate that some factors, such as **tweets in 2 weeks**, **harmful language (PC1)**, **misinformation (PC1)**, and **extremity**, are significant predictors of suspension even after multiple testing corrections.\n",
    "\n",
    "- Based on the results, the P-value for `pc1_politics` (the principal component representing political orientation) is significant before correction $(p = 0.0112)$ but becomes non-significant after both Bonferroni and Holm-Bonferroni corrections (adjusted $p > 0.05$). \n",
    "\n",
    "- This suggests that while there is a weak association between political orientation and suspension in the uncorrected results, this relationship does not hold under stricter multiple testing controls.\n",
    "\n",
    "- Therefore, **political orientation is not a strong or reliable predictor of suspension** in this analysis.\n",
    "\n",
    "- Suspension is primarily influenced by behavioral and harmful content metrics rather than political orientation or emotional valence.\n",
    "\n",
    "- We'll do the same analysis using logit regression."
   ]
  },
  {
   "cell_type": "code",
   "execution_count": 50,
   "metadata": {},
   "outputs": [
    {
     "name": "stdout",
     "output_type": "stream",
     "text": [
      "Optimization terminated successfully.\n",
      "         Current function value: 0.303039\n",
      "         Iterations 7\n"
     ]
    },
    {
     "data": {
      "text/html": [
       "<div>\n",
       "<style scoped>\n",
       "    .dataframe tbody tr th:only-of-type {\n",
       "        vertical-align: middle;\n",
       "    }\n",
       "\n",
       "    .dataframe tbody tr th {\n",
       "        vertical-align: top;\n",
       "    }\n",
       "\n",
       "    .dataframe thead th {\n",
       "        text-align: right;\n",
       "    }\n",
       "</style>\n",
       "<table border=\"1\" class=\"dataframe\">\n",
       "  <thead>\n",
       "    <tr style=\"text-align: right;\">\n",
       "      <th></th>\n",
       "      <th>P-value</th>\n",
       "      <th>Bonferroni Corrected P-value</th>\n",
       "      <th>Holm-Bonferroni Corrected P-value</th>\n",
       "    </tr>\n",
       "  </thead>\n",
       "  <tbody>\n",
       "    <tr>\n",
       "      <th>const</th>\n",
       "      <td>0.000000</td>\n",
       "      <td>0.000000</td>\n",
       "      <td>0.000000</td>\n",
       "    </tr>\n",
       "    <tr>\n",
       "      <th>pc1_politics</th>\n",
       "      <td>0.007369</td>\n",
       "      <td>0.132651</td>\n",
       "      <td>0.066325</td>\n",
       "    </tr>\n",
       "    <tr>\n",
       "      <th>pc1_misinfo</th>\n",
       "      <td>0.000000</td>\n",
       "      <td>0.000001</td>\n",
       "      <td>0.000001</td>\n",
       "    </tr>\n",
       "    <tr>\n",
       "      <th>pc1_fol</th>\n",
       "      <td>0.960239</td>\n",
       "      <td>1.000000</td>\n",
       "      <td>1.000000</td>\n",
       "    </tr>\n",
       "    <tr>\n",
       "      <th>pc1_harmful_language</th>\n",
       "      <td>0.000000</td>\n",
       "      <td>0.000000</td>\n",
       "      <td>0.000000</td>\n",
       "    </tr>\n",
       "    <tr>\n",
       "      <th>pc2_harmful_language</th>\n",
       "      <td>0.001648</td>\n",
       "      <td>0.029664</td>\n",
       "      <td>0.017252</td>\n",
       "    </tr>\n",
       "    <tr>\n",
       "      <th>pc3_harmful_language</th>\n",
       "      <td>0.001568</td>\n",
       "      <td>0.028230</td>\n",
       "      <td>0.017252</td>\n",
       "    </tr>\n",
       "    <tr>\n",
       "      <th>pc1_valence</th>\n",
       "      <td>0.089166</td>\n",
       "      <td>1.000000</td>\n",
       "      <td>0.624161</td>\n",
       "    </tr>\n",
       "    <tr>\n",
       "      <th>tweets_in_2wk</th>\n",
       "      <td>0.000000</td>\n",
       "      <td>0.000000</td>\n",
       "      <td>0.000000</td>\n",
       "    </tr>\n",
       "    <tr>\n",
       "      <th>botsentinel_score</th>\n",
       "      <td>0.000001</td>\n",
       "      <td>0.000013</td>\n",
       "      <td>0.000009</td>\n",
       "    </tr>\n",
       "    <tr>\n",
       "      <th>extremity</th>\n",
       "      <td>0.000000</td>\n",
       "      <td>0.000000</td>\n",
       "      <td>0.000000</td>\n",
       "    </tr>\n",
       "    <tr>\n",
       "      <th>moral_outrage</th>\n",
       "      <td>0.485810</td>\n",
       "      <td>1.000000</td>\n",
       "      <td>1.000000</td>\n",
       "    </tr>\n",
       "    <tr>\n",
       "      <th>liwc_political</th>\n",
       "      <td>0.261253</td>\n",
       "      <td>1.000000</td>\n",
       "      <td>1.000000</td>\n",
       "    </tr>\n",
       "    <tr>\n",
       "      <th>log_freq_pr_1h</th>\n",
       "      <td>0.000001</td>\n",
       "      <td>0.000009</td>\n",
       "      <td>0.000007</td>\n",
       "    </tr>\n",
       "    <tr>\n",
       "      <th>log_repeated_tweet_count</th>\n",
       "      <td>0.673366</td>\n",
       "      <td>1.000000</td>\n",
       "      <td>1.000000</td>\n",
       "    </tr>\n",
       "    <tr>\n",
       "      <th>barbera_std</th>\n",
       "      <td>0.170386</td>\n",
       "      <td>1.000000</td>\n",
       "      <td>1.000000</td>\n",
       "    </tr>\n",
       "    <tr>\n",
       "      <th>politics_sites1_std</th>\n",
       "      <td>0.196487</td>\n",
       "      <td>1.000000</td>\n",
       "      <td>1.000000</td>\n",
       "    </tr>\n",
       "    <tr>\n",
       "      <th>politics_sites2_ideo_std</th>\n",
       "      <td>0.009267</td>\n",
       "      <td>0.166805</td>\n",
       "      <td>0.074136</td>\n",
       "    </tr>\n",
       "  </tbody>\n",
       "</table>\n",
       "</div>"
      ],
      "text/plain": [
       "                           P-value  Bonferroni Corrected P-value  \\\n",
       "const                     0.000000                      0.000000   \n",
       "pc1_politics              0.007369                      0.132651   \n",
       "pc1_misinfo               0.000000                      0.000001   \n",
       "pc1_fol                   0.960239                      1.000000   \n",
       "pc1_harmful_language      0.000000                      0.000000   \n",
       "pc2_harmful_language      0.001648                      0.029664   \n",
       "pc3_harmful_language      0.001568                      0.028230   \n",
       "pc1_valence               0.089166                      1.000000   \n",
       "tweets_in_2wk             0.000000                      0.000000   \n",
       "botsentinel_score         0.000001                      0.000013   \n",
       "extremity                 0.000000                      0.000000   \n",
       "moral_outrage             0.485810                      1.000000   \n",
       "liwc_political            0.261253                      1.000000   \n",
       "log_freq_pr_1h            0.000001                      0.000009   \n",
       "log_repeated_tweet_count  0.673366                      1.000000   \n",
       "barbera_std               0.170386                      1.000000   \n",
       "politics_sites1_std       0.196487                      1.000000   \n",
       "politics_sites2_ideo_std  0.009267                      0.166805   \n",
       "\n",
       "                          Holm-Bonferroni Corrected P-value  \n",
       "const                                              0.000000  \n",
       "pc1_politics                                       0.066325  \n",
       "pc1_misinfo                                        0.000001  \n",
       "pc1_fol                                            1.000000  \n",
       "pc1_harmful_language                               0.000000  \n",
       "pc2_harmful_language                               0.017252  \n",
       "pc3_harmful_language                               0.017252  \n",
       "pc1_valence                                        0.624161  \n",
       "tweets_in_2wk                                      0.000000  \n",
       "botsentinel_score                                  0.000009  \n",
       "extremity                                          0.000000  \n",
       "moral_outrage                                      1.000000  \n",
       "liwc_political                                     1.000000  \n",
       "log_freq_pr_1h                                     0.000007  \n",
       "log_repeated_tweet_count                           1.000000  \n",
       "barbera_std                                        1.000000  \n",
       "politics_sites1_std                                1.000000  \n",
       "politics_sites2_ideo_std                           0.074136  "
      ]
     },
     "execution_count": 50,
     "metadata": {},
     "output_type": "execute_result"
    }
   ],
   "source": [
    "# Define the predictors and target variable\n",
    "X = data[independent_vars]\n",
    "y = data[target]\n",
    "\n",
    "# Add a constant to the predictors\n",
    "X = sm.add_constant(X)\n",
    "\n",
    "logit_model = sm.Logit(y, X).fit()\n",
    "\n",
    "p_values_logit = logit_model.pvalues\n",
    "\n",
    "# Perform Bonferroni correction\n",
    "_, bonferroni_corrected_p_logit, _, _ = multipletests(p_values_logit, alpha=0.05, method='bonferroni')\n",
    "\n",
    "# Perform Holm-Bonferroni correction\n",
    "_, holm_bonferroni_corrected_p_logit, _, _ = multipletests(p_values_logit, alpha=0.05, method='holm')\n",
    "\n",
    "# Create a DataFrame to display the results\n",
    "results_df_logit = pd.DataFrame({\n",
    "    'P-value': p_values_logit,\n",
    "    'Bonferroni Corrected P-value': bonferroni_corrected_p_logit,\n",
    "    'Holm-Bonferroni Corrected P-value': holm_bonferroni_corrected_p_logit\n",
    "})\n",
    "\n",
    "# Round the numbers for better readability\n",
    "results_df_logit = results_df_logit.round(6) # Round to 6 decimal places\n",
    "\n",
    "results_df_logit"
   ]
  },
  {
   "cell_type": "markdown",
   "metadata": {},
   "source": [
    "- The results of the logit regression are broadly consistent with those of the probit regression.\n",
    "\n",
    "- Both methods affirm the primary importance of harmful content and behavioral metrics over political orientation in predicting suspension."
   ]
  }
 ],
 "metadata": {
  "kernelspec": {
   "display_name": "Python 3",
   "language": "python",
   "name": "python3"
  },
  "language_info": {
   "codemirror_mode": {
    "name": "ipython",
    "version": 3
   },
   "file_extension": ".py",
   "mimetype": "text/x-python",
   "name": "python",
   "nbconvert_exporter": "python",
   "pygments_lexer": "ipython3",
   "version": "3.12.6"
  }
 },
 "nbformat": 4,
 "nbformat_minor": 4
}
